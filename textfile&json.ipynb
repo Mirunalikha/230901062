{
 "cells": [
  {
   "cell_type": "code",
   "execution_count": 6,
   "id": "3937e2e6-9fdc-4507-9e94-178600a208ba",
   "metadata": {},
   "outputs": [],
   "source": [
    "f=open(\"/Users/student/Downloads/textfile.txt\",\"w\")\n",
    "f.write(\"wakeup early \\n\")\n",
    "f.write(\"Read daily \\n\")\n",
    "f.write(\"Be Puntucal \\n\")\n",
    "f.close()"
   ]
  },
  {
   "cell_type": "code",
   "execution_count": 7,
   "id": "709c47d7-43a1-4e41-b20b-d5bfded8fa94",
   "metadata": {},
   "outputs": [
    {
     "name": "stdout",
     "output_type": "stream",
     "text": [
      "wakeup early \n",
      "\n",
      "Read daily \n",
      "\n"
     ]
    }
   ],
   "source": [
    "a=open(\"/Users/student/Downloads/textfile.txt\",\"r\")\n",
    "print(a.readline())\n",
    "print(a.readline())\n",
    "a.close()"
   ]
  },
  {
   "cell_type": "code",
   "execution_count": 9,
   "id": "a3dfea54-da14-4ff3-bd5e-69dda1c9ee22",
   "metadata": {},
   "outputs": [],
   "source": [
    "b=open(\"/Users/student/Downloads/textfile.txt\",\"a\")\n",
    "b.write(\"Fahim \\n\")\n",
    "b.write(\"Real \\n\")\n",
    "b.close()"
   ]
  },
  {
   "cell_type": "code",
   "execution_count": 10,
   "id": "3ecd0ca0-d2af-4610-803c-4e6a429fc58c",
   "metadata": {},
   "outputs": [
    {
     "name": "stdout",
     "output_type": "stream",
     "text": [
      "wakeup early \n",
      "Read daily \n",
      "Be Puntucal \n",
      "Fahim \n",
      "Real \n",
      "\n"
     ]
    }
   ],
   "source": [
    "c=open(\"/Users/student/Downloads/textfile.txt\",\"r\")\n",
    "print(c.read())\n",
    "c.close()"
   ]
  },
  {
   "cell_type": "code",
   "execution_count": 16,
   "id": "468cfba9-d87f-493c-a4b0-465e2438dce8",
   "metadata": {},
   "outputs": [
    {
     "name": "stdout",
     "output_type": "stream",
     "text": [
      "['wakeup early \\n', 'Read daily \\n', 'Be Puntucal \\n', 'Fahim \\n', 'Real \\n']\n"
     ]
    }
   ],
   "source": [
    "with open(\"/Users/student/Downloads/textfile.txt\",\"r\") as file:\n",
    "    lines=file.readlines()\n",
    "    print(lines)"
   ]
  }
 ],
 "metadata": {
  "kernelspec": {
   "display_name": "Python 3 (ipykernel)",
   "language": "python",
   "name": "python3"
  },
  "language_info": {
   "codemirror_mode": {
    "name": "ipython",
    "version": 3
   },
   "file_extension": ".py",
   "mimetype": "text/x-python",
   "name": "python",
   "nbconvert_exporter": "python",
   "pygments_lexer": "ipython3",
   "version": "3.12.7"
  }
 },
 "nbformat": 4,
 "nbformat_minor": 5
}
