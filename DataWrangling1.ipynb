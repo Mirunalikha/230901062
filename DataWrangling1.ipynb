{
 "cells": [
  {
   "cell_type": "code",
   "execution_count": 1,
   "id": "dfe5eeb2-adf8-467e-a4ea-2bf3bc1f54df",
   "metadata": {},
   "outputs": [],
   "source": [
    "#join function\n",
    "import pandas as pd\n",
    "d1={\"Name\":[\"Sai\",\"Sub\",\"Poo\"],\"Age\":[20,21,22]}\n",
    "d2={\"Qualified\":[True,True,False]}"
   ]
  },
  {
   "cell_type": "code",
   "execution_count": 3,
   "id": "98b3aa84-6ebc-469d-ac35-607611dd6086",
   "metadata": {},
   "outputs": [
    {
     "name": "stdout",
     "output_type": "stream",
     "text": [
      "  Name  Age\n",
      "0  Sai   20\n",
      "1  Sub   21\n",
      "2  Poo   22\n",
      "   Qualified\n",
      "0       True\n",
      "1       True\n",
      "2      False\n"
     ]
    }
   ],
   "source": [
    "df1=pd.DataFrame(d1)\n",
    "print(df1)\n",
    "df2=pd.DataFrame(d2)\n",
    "print(df2)\n",
    "newdf=df1.join(df2)"
   ]
  },
  {
   "cell_type": "code",
   "execution_count": 5,
   "id": "612c12be-65f6-4b8c-b48a-b586d288eadf",
   "metadata": {},
   "outputs": [
    {
     "name": "stdout",
     "output_type": "stream",
     "text": [
      "  Name  Age  Qualified\n",
      "0  Sai   20       True\n",
      "1  Sub   21       True\n",
      "2  Poo   22      False\n"
     ]
    }
   ],
   "source": [
    "print(newdf)"
   ]
  },
  {
   "cell_type": "code",
   "execution_count": 7,
   "id": "c106544f-78bc-4edc-9a67-5a6c1bf9b748",
   "metadata": {},
   "outputs": [
    {
     "name": "stdout",
     "output_type": "stream",
     "text": [
      "  Name  Age  Qualified\n",
      "0  Sai   20       True\n",
      "1  Sub   21       True\n",
      "2  Poo   22      False\n",
      "  Name     Area\n",
      "0  Sai  Chennai\n",
      "1  Sub   Mumbai\n",
      "2  Poo    Delhi\n",
      "  Name     Area  Age  Qualified\n",
      "0  Sai  Chennai   20       True\n",
      "1  Sub   Mumbai   21       True\n",
      "2  Poo    Delhi   22      False\n",
      "  Name  Age  Qualified     Area\n",
      "0  Sai   20       True  Chennai\n",
      "1  Sub   21       True   Mumbai\n",
      "2  Poo   22      False    Delhi\n"
     ]
    }
   ],
   "source": [
    "#merge function\n",
    "f2={\"Name\":[\"Sai\",\"Sub\",\"Poo\"],\"Area\":[\"Chennai\",\"Mumbai\",\"Delhi\"]}\n",
    "f=pd.DataFrame(f2)\n",
    "print(newdf)\n",
    "print(f)\n",
    "newdf2=(f.merge(newdf,on=\"Name\"))\n",
    "print(newdf2)\n",
    "newdf3=(newdf.merge(f,on=\"Name\"))\n",
    "print(newdf3)"
   ]
  },
  {
   "cell_type": "code",
   "execution_count": 23,
   "id": "d652b4c6-081f-4af2-b3b4-fb756436de00",
   "metadata": {},
   "outputs": [
    {
     "name": "stdout",
     "output_type": "stream",
     "text": [
      "  team  points  assist  rebound\n",
      "0    A      90      12       56\n",
      "1    B      56      34       43\n",
      "2    C      75      23       55\n",
      "3    D      88      44       12\n",
      "   team variable  value\n",
      "0     A   points     90\n",
      "1     B   points     56\n",
      "2     C   points     75\n",
      "3     D   points     88\n",
      "4     A   assist     12\n",
      "5     B   assist     34\n",
      "6     C   assist     23\n",
      "7     D   assist     44\n",
      "8     A  rebound     56\n",
      "9     B  rebound     43\n",
      "10    C  rebound     55\n",
      "11    D  rebound     12\n"
     ]
    }
   ],
   "source": [
    "df=pd.DataFrame({'team':['A','B','C','D'],'points':[90,56,75,88],'assist':[12,34,23,44],'rebound':[56,43,55,12]})\n",
    "print(df)\n",
    "df=pd.melt(df,id_vars='team',value_vars=['points','assist','rebound'])\n",
    "print(df)"
   ]
  },
  {
   "cell_type": "code",
   "execution_count": null,
   "id": "d8fa1deb-4496-47b2-a577-f07bafd946b6",
   "metadata": {},
   "outputs": [],
   "source": []
  }
 ],
 "metadata": {
  "kernelspec": {
   "display_name": "Python [conda env:base] *",
   "language": "python",
   "name": "conda-base-py"
  },
  "language_info": {
   "codemirror_mode": {
    "name": "ipython",
    "version": 3
   },
   "file_extension": ".py",
   "mimetype": "text/x-python",
   "name": "python",
   "nbconvert_exporter": "python",
   "pygments_lexer": "ipython3",
   "version": "3.12.7"
  }
 },
 "nbformat": 4,
 "nbformat_minor": 5
}
