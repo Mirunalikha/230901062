{
 "cells": [
  {
   "cell_type": "code",
   "execution_count": 1,
   "id": "f7fd933c-fea9-499d-8930-e46a3d6c72c7",
   "metadata": {},
   "outputs": [
    {
     "name": "stdout",
     "output_type": "stream",
     "text": [
      "Before\n",
      "\n",
      "    Height\n",
      "0      150\n",
      "1      157\n",
      "2      170\n",
      "3      176\n",
      "4      164\n",
      "5      164\n",
      "6      155\n",
      "7      159\n",
      "8      175\n",
      "9      164\n",
      "10     176\n",
      "11     183\n",
      "12     174\n",
      "After:\n",
      "    Height    Label\n",
      "0      150      NaN\n",
      "1      157    Short\n",
      "2      170     Tall\n",
      "3      176     Tall\n",
      "4      164  Average\n",
      "5      164  Average\n",
      "6      155    Short\n",
      "7      159  Average\n",
      "8      175     Tall\n",
      "9      164  Average\n",
      "10     176     Tall\n",
      "11     183     Tall\n",
      "12     174     Tall\n",
      "Categories:\n",
      "Label\n",
      "Tall       6\n",
      "Average    4\n",
      "Short      2\n",
      "Name: count, dtype: int64\n"
     ]
    }
   ],
   "source": [
    "import pandas as pd\n",
    "import numpy as np\n",
    "df=pd.DataFrame({'Height':[150,157,170,176,164,164,155,159,175,164,176,183,174]})\n",
    "print(\"Before\\n\")\n",
    "print(df)\n",
    "df['Label']=pd.cut(x=df['Height'],bins=[150,157,164,183],labels=['Short','Average','Tall'])\n",
    "print(\"After:\")\n",
    "print(df)\n",
    "print(\"Categories:\")\n",
    "print(df['Label'].value_counts())\n"
   ]
  },
  {
   "cell_type": "code",
   "execution_count": null,
   "id": "96caa824-ffda-498a-96d9-38ce391fd94c",
   "metadata": {},
   "outputs": [],
   "source": []
  }
 ],
 "metadata": {
  "kernelspec": {
   "display_name": "Python [conda env:base] *",
   "language": "python",
   "name": "conda-base-py"
  },
  "language_info": {
   "codemirror_mode": {
    "name": "ipython",
    "version": 3
   },
   "file_extension": ".py",
   "mimetype": "text/x-python",
   "name": "python",
   "nbconvert_exporter": "python",
   "pygments_lexer": "ipython3",
   "version": "3.12.7"
  }
 },
 "nbformat": 4,
 "nbformat_minor": 5
}
