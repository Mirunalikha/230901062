{
 "cells": [
  {
   "cell_type": "code",
   "execution_count": 2,
   "id": "cc352f64",
   "metadata": {},
   "outputs": [
    {
     "name": "stdout",
     "output_type": "stream",
     "text": [
      "[20 40 50 70 10]\n",
      "[6 2 9 7 1]\n",
      "[26 42 59 77 11]\n",
      "[14 38 41 63  9]\n",
      "[120  80 450 490  10]\n",
      "[ 3.33333333 20.          5.55555556 10.         10.        ]\n"
     ]
    }
   ],
   "source": [
    "import numpy as np\n",
    "a=np.array([20,40,50,70,10])\n",
    "b=np.array([6,2,9,7,1])\n",
    "print(a)\n",
    "print(b)\n",
    "print(a+b)\n",
    "print(a-b)\n",
    "print(a*b)\n",
    "print(a/b)"
   ]
  },
  {
   "cell_type": "code",
   "execution_count": 13,
   "id": "291061e6",
   "metadata": {},
   "outputs": [
    {
     "name": "stdout",
     "output_type": "stream",
     "text": [
      "1150\n",
      "scalar values= 3\n",
      "array: [20 40 50 70 10]\n",
      "result: [ 60 120 150 210  30]\n"
     ]
    }
   ],
   "source": [
    "import numpy as np\n",
    "a=np.array([20,40,50,70,10])\n",
    "b=np.array([6,2,9,7,1])\n",
    "print(a.dot(b))\n",
    "set = 3\n",
    "print(\"scalar values=\",set)\n",
    "print(\"array:\",a)\n",
    "print(\"result:\",a*set)"
   ]
  },
  {
   "cell_type": "code",
   "execution_count": 7,
   "id": "4ad4792d",
   "metadata": {},
   "outputs": [
    {
     "name": "stdout",
     "output_type": "stream",
     "text": [
      "[[1 6]\n",
      " [0 4]]\n"
     ]
    }
   ],
   "source": [
    "import numpy as np\n",
    "a=np.array([[10,20],[30,40]])\n",
    "b=np.array([[3,7],[5,9]])\n",
    "print(a%b)"
   ]
  },
  {
   "cell_type": "code",
   "execution_count": 15,
   "id": "0842be56",
   "metadata": {},
   "outputs": [
    {
     "name": "stdout",
     "output_type": "stream",
     "text": [
      "array1 [10, 7, 2]\n",
      "array2 [6, 5, 3]\n",
      "result [4 2 5]\n"
     ]
    }
   ],
   "source": [
    "def mf(x,y):\n",
    "    if x>y:\n",
    "        return x-y\n",
    "    else:\n",
    "        return x+y \n",
    "  \n",
    "a =[10,7,2]\n",
    "b =[6,5,3]\n",
    "vfunc=np.vectorize(mf)\n",
    "print(\"array1\",a)\n",
    "print(\"array2\",b)\n",
    "print(\"result\",vfunc(a,b))"
   ]
  },
  {
   "cell_type": "code",
   "execution_count": null,
   "id": "163f4b1b",
   "metadata": {},
   "outputs": [],
   "source": []
  }
 ],
 "metadata": {
  "kernelspec": {
   "display_name": "Python 3 (ipykernel)",
   "language": "python",
   "name": "python3"
  },
  "language_info": {
   "codemirror_mode": {
    "name": "ipython",
    "version": 3
   },
   "file_extension": ".py",
   "mimetype": "text/x-python",
   "name": "python",
   "nbconvert_exporter": "python",
   "pygments_lexer": "ipython3",
   "version": "3.11.4"
  }
 },
 "nbformat": 4,
 "nbformat_minor": 5
}
