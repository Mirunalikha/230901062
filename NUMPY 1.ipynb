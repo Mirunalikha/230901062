{
 "cells": [
  {
   "cell_type": "code",
   "execution_count": 2,
   "id": "eef75d49",
   "metadata": {
    "scrolled": true
   },
   "outputs": [
    {
     "name": "stdout",
     "output_type": "stream",
     "text": [
      "One dimensional array: [10 20 30 40 50]\n"
     ]
    }
   ],
   "source": [
    "#1-D array\n",
    "import numpy as np\n",
    "a=np.array([10,20,30,40,50])\n",
    "print(\"One dimensional array:\",a)"
   ]
  },
  {
   "cell_type": "code",
   "execution_count": 4,
   "id": "802011a7",
   "metadata": {},
   "outputs": [
    {
     "name": "stdout",
     "output_type": "stream",
     "text": [
      "Two dimensional array: [[ 10  20  30  40  50]\n",
      " [ 60  70  80  90 100]]\n"
     ]
    }
   ],
   "source": [
    "#2-D array\n",
    "import numpy as np\n",
    "b=np.array([[10,20,30,40,50],[60,70,80,90,100]])\n",
    "print(\"Two dimensional array:\",b)"
   ]
  },
  {
   "cell_type": "code",
   "execution_count": 5,
   "id": "71ab90aa",
   "metadata": {},
   "outputs": [
    {
     "name": "stdout",
     "output_type": "stream",
     "text": [
      "\n",
      " Array with all zeros:\n",
      " [[0. 0. 0. 0. 0.]\n",
      " [0. 0. 0. 0. 0.]\n",
      " [0. 0. 0. 0. 0.]]\n"
     ]
    }
   ],
   "source": [
    "#array of zeros\n",
    "import numpy as np\n",
    "c=np.zeros((3,5))\n",
    "print(\"\\n Array with all zeros:\\n\",c)"
   ]
  },
  {
   "cell_type": "code",
   "execution_count": 6,
   "id": "1fae71c8",
   "metadata": {},
   "outputs": [
    {
     "name": "stdout",
     "output_type": "stream",
     "text": [
      "\n",
      " Random value:\n",
      " [[0.35507195 0.81209456 0.8294121 ]\n",
      " [0.77540669 0.63444027 0.34330152]\n",
      " [0.32895178 0.86875831 0.01788786]]\n"
     ]
    }
   ],
   "source": [
    "#random value\n",
    "import numpy as np\n",
    "d=np.random.random((3,3))\n",
    "print(\"\\n Random value:\\n\",d)"
   ]
  },
  {
   "cell_type": "code",
   "execution_count": 8,
   "id": "ad5c4df2",
   "metadata": {},
   "outputs": [
    {
     "name": "stdout",
     "output_type": "stream",
     "text": [
      "\n",
      " Range value:\n",
      " [ 0  5 10 15 20 25 30 35 40 45 50 55 60 65 70 75 80 85 90 95]\n"
     ]
    }
   ],
   "source": [
    "#range of values\n",
    "import numpy  as np\n",
    "e=np.arange(0,100,5)\n",
    "print(\"\\n Range value:\\n\",e)"
   ]
  },
  {
   "cell_type": "code",
   "execution_count": 9,
   "id": "c2f0f52e",
   "metadata": {},
   "outputs": [
    {
     "name": "stdout",
     "output_type": "stream",
     "text": [
      "\n",
      " Original array:\n",
      " [[ 1  2  3  4]\n",
      " [ 5  6  7  8]\n",
      " [ 9 10 11 12]]\n",
      "\n",
      " Reshaped array [4,3]:\n",
      " [[ 1  2  3]\n",
      " [ 4  5  6]\n",
      " [ 7  8  9]\n",
      " [10 11 12]]\n"
     ]
    }
   ],
   "source": [
    "#reshaping array\n",
    "arr=np.array([[1,2,3,4],[5,6,7,8],[9,10,11,12]])\n",
    "newarr=arr.reshape((4,3))\n",
    "print(\"\\n Original array:\\n\",arr)\n",
    "print(\"\\n Reshaped array [4,3]:\\n\", newarr)"
   ]
  },
  {
   "cell_type": "code",
   "execution_count": 11,
   "id": "5ad9e87d",
   "metadata": {},
   "outputs": [
    {
     "name": "stdout",
     "output_type": "stream",
     "text": [
      "flattened array:\n",
      " [ 1  2  3  4  5  6  7  8  9 10 11 12 13 14 15]\n"
     ]
    }
   ],
   "source": [
    "#merging all array\n",
    "import numpy as np\n",
    "a=np.array([[1,2,3],[4,5,6],[7,8,9],[10,11,12],[13,14,15]])\n",
    "print(\"flattened array:\\n\",flat)"
   ]
  },
  {
   "cell_type": "code",
   "execution_count": 9,
   "id": "24f038e7",
   "metadata": {},
   "outputs": [
    {
     "name": "stdout",
     "output_type": "stream",
     "text": [
      "\n",
      " no. of dimensions: 2\n"
     ]
    }
   ],
   "source": [
    "#dimension of array\n",
    "import numpy as np\n",
    "a=np.array([[1,2,3],[4,5,6],[7,8,9],[10,11,12],[13,14,15]])\n",
    "print(\"\\n no. of dimensions:\", a.ndim)"
   ]
  },
  {
   "cell_type": "code",
   "execution_count": 1,
   "id": "3d92718f",
   "metadata": {},
   "outputs": [
    {
     "name": "stdout",
     "output_type": "stream",
     "text": [
      "\n",
      " shape of array: (5, 3)\n"
     ]
    }
   ],
   "source": [
    "#shape of array\n",
    "import numpy as np\n",
    "a=np.array([[1,2,3],[4,5,6],[7,8,9],[10,11,12],[13,14,15]])\n",
    "print(\"\\n shape of array:\",a.shape)"
   ]
  },
  {
   "cell_type": "code",
   "execution_count": 4,
   "id": "046bccd6",
   "metadata": {},
   "outputs": [
    {
     "name": "stdout",
     "output_type": "stream",
     "text": [
      "\n",
      " Array element type: int32\n"
     ]
    }
   ],
   "source": [
    "#array element type\n",
    "import numpy as np\n",
    "a=np.array([[1,2,3],[4,5,6],[7,8,9],[10,11,12],[13,14,15]])\n",
    "print(\"\\n Array element type:\", a.dtype)"
   ]
  },
  {
   "cell_type": "code",
   "execution_count": 7,
   "id": "65820a64",
   "metadata": {},
   "outputs": [
    {
     "name": "stdout",
     "output_type": "stream",
     "text": [
      "\n",
      "Convert array element:\n",
      " [[1. 2. 3.]\n",
      " [4. 5. 6.]\n",
      " [7. 8. 9.]]\n",
      "Array type: float32\n"
     ]
    }
   ],
   "source": [
    "#convert int to float\n",
    "import numpy as np\n",
    "a=np.array([[1,2,3],[4,5,6],[7,8,9]])\n",
    "newtype=a.astype('f')\n",
    "print(\"\\nConvert array element:\\n\",newtype)\n",
    "print(\"Array type:\",newtype.dtype)"
   ]
  },
  {
   "cell_type": "code",
   "execution_count": 19,
   "id": "54f133e0",
   "metadata": {},
   "outputs": [
    {
     "name": "stdout",
     "output_type": "stream",
     "text": [
      "\n",
      " Array size: 9\n"
     ]
    }
   ],
   "source": [
    "#No. of elements\n",
    "import numpy as np\n",
    "a=np.array([[1,2,3],[4,5,6],[7,8,9]])\n",
    "print(\"\\n Array size:\", a.size)"
   ]
  },
  {
   "cell_type": "code",
   "execution_count": 20,
   "id": "26ee8882",
   "metadata": {},
   "outputs": [
    {
     "name": "stdout",
     "output_type": "stream",
     "text": [
      "\n",
      " Array size: 3\n"
     ]
    }
   ],
   "source": [
    "#length of array\n",
    "import numpy as np\n",
    "a=np.array([[1,2,3],[4,5,6],[7,8,9]])\n",
    "print(\"\\n Array size:\", len(a))"
   ]
  },
  {
   "cell_type": "code",
   "execution_count": 22,
   "id": "4287ab40",
   "metadata": {},
   "outputs": [
    {
     "name": "stdout",
     "output_type": "stream",
     "text": [
      "\n",
      " array:\n",
      " [[ 1  2  3]\n",
      " [ 4  5  6]\n",
      " [ 7  8  9]\n",
      " [10 11 12]\n",
      " [13 14 15]]\n",
      "\n",
      " array with all zeros:\n",
      " [[0. 0. 0.]\n",
      " [0. 0. 0.]\n",
      " [0. 0. 0.]\n",
      " [0. 0. 0.]\n",
      " [0. 0. 0.]]\n",
      "\n",
      " array with random values:\n",
      " [[0.67831523 0.97120666 0.16592046]\n",
      " [0.69751729 0.76927021 0.34644833]\n",
      " [0.12867062 0.90872501 0.30933082]\n",
      " [0.23184043 0.9371988  0.5391175 ]\n",
      " [0.93597302 0.4794936  0.48030169]]\n",
      "\n",
      " range value:\n",
      " [ 0  2  4  6  8 10 12 14 16 18 20 22 24 26 28 30 32 34 36 38 40 42 44 46\n",
      " 48]\n",
      "\n",
      " original array:\n",
      " [[ 1  2  3]\n",
      " [ 4  5  6]\n",
      " [ 7  8  9]\n",
      " [10 11 12]\n",
      " [13 14 15]]\n",
      "\n",
      " reshaped array[3,5]:\n",
      " [[ 1  2  3  4  5]\n",
      " [ 6  7  8  9 10]\n",
      " [11 12 13 14 15]]\n",
      "flattened array:\n",
      " [ 1  2  3  4  5  6  7  8  9 10 11 12 13 14 15]\n",
      "\n",
      " no. of dimensions: 2\n",
      "\n",
      " shape of array: (5, 3)\n",
      "\n",
      " Array element type: int32\n",
      "\n",
      "Convert array element:\n",
      " [[ 1.  2.  3.]\n",
      " [ 4.  5.  6.]\n",
      " [ 7.  8.  9.]\n",
      " [10. 11. 12.]\n",
      " [13. 14. 15.]]\n",
      "Array type: float32\n",
      "\n",
      " Array size: 15\n",
      "\n",
      " No. of elements: 5\n"
     ]
    }
   ],
   "source": [
    "#all functions\n",
    "import numpy as np\n",
    "a=np.array([[1,2,3],[4,5,6],[7,8,9],[10,11,12],[13,14,15]])\n",
    "b=np.zeros((5,3))\n",
    "c=np.random.random((5,3))\n",
    "d=np.arange(0,50,2)\n",
    "e=np.array([[1,2,3],[4,5,6],[7,8,9],[10,11,12],[13,14,15]])\n",
    "newe=e.reshape((3,5))\n",
    "flat=a.flatten()\n",
    "print(\"\\n array:\\n\",a)\n",
    "print(\"\\n array with all zeros:\\n\",b)\n",
    "print(\"\\n array with random values:\\n\",c)\n",
    "print(\"\\n range value:\\n\",d)\n",
    "print(\"\\n original array:\\n\",e)\n",
    "print(\"\\n reshaped array[3,5]:\\n\",newe)\n",
    "print(\"flattened array:\\n\",flat)\n",
    "print(\"\\n no. of dimensions:\", a.ndim)\n",
    "print(\"\\n shape of array:\",a.shape)\n",
    "print(\"\\n Array element type:\", a.dtype)\n",
    "newtype=a.astype('f')\n",
    "print(\"\\nConvert array element:\\n\",newtype)\n",
    "print(\"Array type:\",newtype.dtype)\n",
    "print(\"\\n Array size:\", a.size)\n",
    "print(\"\\n No. of elements:\", len(a))"
   ]
  }
 ],
 "metadata": {
  "kernelspec": {
   "display_name": "Python 3 (ipykernel)",
   "language": "python",
   "name": "python3"
  },
  "language_info": {
   "codemirror_mode": {
    "name": "ipython",
    "version": 3
   },
   "file_extension": ".py",
   "mimetype": "text/x-python",
   "name": "python",
   "nbconvert_exporter": "python",
   "pygments_lexer": "ipython3",
   "version": "3.11.3"
  }
 },
 "nbformat": 4,
 "nbformat_minor": 5
}
