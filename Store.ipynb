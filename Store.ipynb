{
 "cells": [
  {
   "cell_type": "code",
   "execution_count": 3,
   "id": "fa32a169-f357-490a-b426-82e6f4b2700b",
   "metadata": {},
   "outputs": [
    {
     "name": "stdout",
     "output_type": "stream",
     "text": [
      "       a  b  c\n",
      "One    1  2  3\n",
      "Two    4  5  6\n",
      "Three  7  8  9\n"
     ]
    }
   ],
   "source": [
    "import pandas as pd\n",
    "d=pd.DataFrame([[1,2,3],[4,5,6],[7,8,9]],index=['One','Two','Three'],columns=['a','b'\n",
    "                                                                            ,'c'])\n",
    "print(d)"
   ]
  },
  {
   "cell_type": "code",
   "execution_count": 5,
   "id": "0b6075f1-ac49-4e9c-9e41-a71e76ab0137",
   "metadata": {},
   "outputs": [],
   "source": [
    "d.to_excel(\"/users/student/Downloads/Lohith.xlsx\")\n",
    "d.to_excel(\"/users/student/Downloads/Lohith2.xlsx\")"
   ]
  },
  {
   "cell_type": "code",
   "execution_count": 7,
   "id": "c48bfa91-d2bd-4c98-9764-d3c9a7705c53",
   "metadata": {},
   "outputs": [],
   "source": [
    "d=pd.DataFrame([[10,20,30],[40,50,60],[70,80,90]],index=['four','five','six'],columns=['X','Y','Z'])\n",
    "d.to_excel(\"/users/student/Downloads/Lohith2.xlsx\")\n"
   ]
  },
  {
   "cell_type": "code",
   "execution_count": 9,
   "id": "8ee49d47-9c98-44c4-b761-b446a7871e8e",
   "metadata": {},
   "outputs": [],
   "source": [
    "d=pd.DataFrame([[6,7],[1,2]],index=('a','b'),columns=('X','Y'))\n",
    "d.to_excel(\"/users/student/Downloads/Lohith.xlsx\")"
   ]
  },
  {
   "cell_type": "code",
   "execution_count": 11,
   "id": "58444029-0a6b-4a81-bdec-2cbcfa4a2e5c",
   "metadata": {},
   "outputs": [],
   "source": [
    "x=pd.read_excel(\"/users/student/Downloads/Lohith.xlsx\")\n",
    "y=pd.read_excel(\"/users/student/Downloads/Lohith2.xlsx\")\n",
    "z=pd.concat([x,y])\n",
    "z.to_excel(\"/users/student/Downloads/Lohith3.xlsx\")\n"
   ]
  },
  {
   "cell_type": "code",
   "execution_count": 17,
   "id": "7e221306-225a-44ca-b2d7-0acdbebe3f4a",
   "metadata": {},
   "outputs": [
    {
     "name": "stdout",
     "output_type": "stream",
     "text": [
      "  Unnamed: 0   X   Y     Z\n",
      "1          b   1   2   NaN\n",
      "0          a   6   7   NaN\n",
      "0       four  10  20  30.0\n",
      "1       five  40  50  60.0\n",
      "2        six  70  80  90.0\n",
      "  Unnamed: 0   X   Y     Z\n",
      "1          b   1   2   NaN\n",
      "0          a   6   7   NaN\n",
      "0       four  10  20  30.0\n",
      "1       five  40  50  60.0\n",
      "2        six  70  80  90.0\n"
     ]
    }
   ],
   "source": [
    "d=z.sort_values(['X'])\n",
    "print(d)\n",
    "d.to_excel(\"/users/student/Downloads/Lohith3.xlsx\")\n",
    "d=z.sort_values(['Y'])\n",
    "print(d)\n",
    "d.to_excel(\"/users/student/Downloads/Lohith3.xlsx\")\n"
   ]
  },
  {
   "cell_type": "code",
   "execution_count": 21,
   "id": "80434f29-f198-46a9-9064-36442020014e",
   "metadata": {},
   "outputs": [
    {
     "name": "stdout",
     "output_type": "stream",
     "text": [
      "   Unnamed: 0.1 Unnamed: 0   X   Y     Z\n",
      "0             1          b   1   2   NaN\n",
      "1             0          a   6   7   NaN\n",
      "2             0       four  10  20  30.0\n",
      "3             1       five  40  50  60.0\n",
      "4             2        six  70  80  90.0\n",
      "['Unnamed: 0.1', 'Unnamed: 0', 'X', 'Y', 'Z']\n",
      "5\n"
     ]
    }
   ],
   "source": [
    "d=pd.read_excel(\"/users/student/Downloads/Lohith3.xlsx\")\n",
    "print(d)\n",
    "print(list(d))#print th cloumn names as list\n",
    "print(format(len(d)))#print the number of rows"
   ]
  },
  {
   "cell_type": "code",
   "execution_count": null,
   "id": "3f06fcc9-45cb-4362-a6c2-770dc6d8ea3a",
   "metadata": {},
   "outputs": [],
   "source": []
  }
 ],
 "metadata": {
  "kernelspec": {
   "display_name": "Python 3 (ipykernel)",
   "language": "python",
   "name": "python3"
  },
  "language_info": {
   "codemirror_mode": {
    "name": "ipython",
    "version": 3
   },
   "file_extension": ".py",
   "mimetype": "text/x-python",
   "name": "python",
   "nbconvert_exporter": "python",
   "pygments_lexer": "ipython3",
   "version": "3.12.7"
  }
 },
 "nbformat": 4,
 "nbformat_minor": 5
}
