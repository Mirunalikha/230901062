{
 "cells": [
  {
   "cell_type": "code",
   "execution_count": 15,
   "id": "23d2ca25-20fa-47df-99c9-0d25f3bcca31",
   "metadata": {},
   "outputs": [
    {
     "name": "stdout",
     "output_type": "stream",
     "text": [
      "    Sno First Name Gender login Time  Salary  Bonus(%)                   Team\n",
      "0     1      Akash      M      10:30   10000        10                 worker\n",
      "1     2     Bikash      M      10:36   12000        20                 worker\n",
      "2     3    Central      M      10:20   10000        10                 worker\n",
      "3     4     Deekan      M      10:25   15000        30                 worker\n",
      "4     5     Sheela      F      10:29   20000        10                 Worker\n",
      "5     6      meenu      F      10:37   50000        10                Manager\n",
      "6     7      Geenu      F      10:35   30000        10             Supervisor\n",
      "7     8      Heenu      F      10:31   34000        12             Supervisor\n",
      "8     9       Innu      F      10:40   18000        13                 Worker\n",
      "9    10    Jarkand      M      10:30   22000        12             Supervisor\n",
      "10   11    Kishore      M      10:15   25000        11  maintainence manager \n",
      "11   12   Manveeth      M      10:19   40000        30                Manager\n",
      "12   13     Mirdhu      F      10:40   45000        45                     HR\n",
      "13   14      Neanu      F      10:30   60000        10             HR,Finance\n",
      "14   15       Oppu      M      10:29   98000         9        General Manager\n",
      "15   16       Paru      F      10:33   10000        10                 Worker\n",
      "16   17      Qubit      M      10:31   19000        12                 Worker\n",
      "17   18     Sheela      F      10:30  100000        40                  Admin\n",
      "18   20     Sheenu      M      10:50  100000        35                  Admin\n"
     ]
    }
   ],
   "source": [
    "import pandas as pd\n",
    "d=pd.read_csv(\"/Users/student/Downloads/Employee Details - sheet1.csv\")\n",
    "print(d)"
   ]
  },
  {
   "cell_type": "code",
   "execution_count": 19,
   "id": "6e6aa86b-18e7-44d8-b3f0-39652906b373",
   "metadata": {},
   "outputs": [
    {
     "name": "stdout",
     "output_type": "stream",
     "text": [
      "Columns Index(['Sno', 'First Name', 'Gender', 'login Time', 'Salary', 'Bonus(%)',\n",
      "       'Team'],\n",
      "      dtype='object')\n",
      "(19, 7)\n"
     ]
    }
   ],
   "source": [
    "df=pd.DataFrame(d)\n",
    "print(\"Columns\",df.columns)\n",
    "print(df.shape)"
   ]
  },
  {
   "cell_type": "code",
   "execution_count": 7,
   "id": "70ce8253-fe16-4e27-a77b-48b2b338cef8",
   "metadata": {},
   "outputs": [
    {
     "name": "stdout",
     "output_type": "stream",
     "text": [
      "First Name 0        Akash\n",
      "1       Bikash\n",
      "2      Central\n",
      "3       Deekan\n",
      "4       Sheela\n",
      "5        meenu\n",
      "6        Geenu\n",
      "7        Heenu\n",
      "8         Innu\n",
      "9      Jarkand\n",
      "10     Kishore\n",
      "11    Manveeth\n",
      "12      Mirdhu\n",
      "13       Neanu\n",
      "14        Oppu\n",
      "15        Paru\n",
      "16       Qubit\n",
      "17      Sheela\n",
      "18      Sheenu\n",
      "Name: First Name, dtype: object\n"
     ]
    }
   ],
   "source": [
    "import pandas as pd\n",
    "d=pd.read_csv(\"/Users/student/Downloads/Employee Details - sheet1.csv\")\n",
    "df=pd.DataFrame(d)\n",
    "print(\"First Name\",df['First Name'])"
   ]
  },
  {
   "cell_type": "code",
   "execution_count": 9,
   "id": "49555e7d-f915-45bc-b289-cb5310418594",
   "metadata": {},
   "outputs": [
    {
     "name": "stdout",
     "output_type": "stream",
     "text": [
      "   Sno First Name Gender login Time  Salary  Bonus(%)        Team\n",
      "5    6      meenu      F      10:37   50000        10     Manager\n",
      "6    7      Geenu      F      10:35   30000        10  Supervisor\n",
      "7    8      Heenu      F      10:31   34000        12  Supervisor\n",
      "8    9       Innu      F      10:40   18000        13      Worker\n",
      "9   10    Jarkand      M      10:30   22000        12  Supervisor\n"
     ]
    }
   ],
   "source": [
    "print(df[5:10])\n"
   ]
  },
  {
   "cell_type": "code",
   "execution_count": 15,
   "id": "1a5f88e6-6092-4d7a-a5e7-a4e5330bc642",
   "metadata": {},
   "outputs": [
    {
     "name": "stdout",
     "output_type": "stream",
     "text": [
      "Particular Person Details:\n",
      " Sno                9\n",
      "First Name      Innu\n",
      "Gender             F\n",
      "login Time     10:40\n",
      "Salary         18000\n",
      "Bonus(%)          13\n",
      "Team          Worker\n",
      "Name: 8, dtype: object\n"
     ]
    }
   ],
   "source": [
    "print(\"Particular Person Details:\\n\",df.loc[8])"
   ]
  },
  {
   "cell_type": "code",
   "execution_count": 19,
   "id": "9c95a0ab-93db-4037-bee1-241e38826a71",
   "metadata": {},
   "outputs": [
    {
     "name": "stdout",
     "output_type": "stream",
     "text": [
      "    Sno First Name Gender login Time  Salary  Bonus(%)   Team\n",
      "17   18     Sheela      F      10:30  100000        40  Admin\n",
      "18   20     Sheenu      M      10:50  100000        35  Admin\n"
     ]
    }
   ],
   "source": [
    "print(d.loc[d['Salary']==100000])"
   ]
  },
  {
   "cell_type": "code",
   "execution_count": 23,
   "id": "766fb5cd-6d2d-4feb-9e7a-9d17a46e123c",
   "metadata": {},
   "outputs": [
    {
     "name": "stdout",
     "output_type": "stream",
     "text": [
      "0      1.0\n",
      "1      1.2\n",
      "2      1.0\n",
      "3      1.5\n",
      "4      2.0\n",
      "5      5.0\n",
      "6      3.0\n",
      "7      3.4\n",
      "8      1.8\n",
      "9      2.2\n",
      "10     2.5\n",
      "11     4.0\n",
      "12     4.5\n",
      "13     6.0\n",
      "14     9.8\n",
      "15     1.0\n",
      "16     1.9\n",
      "17    10.0\n",
      "18    10.0\n",
      "Name: Salary, dtype: float64\n"
     ]
    }
   ],
   "source": [
    "df=d['Salary']/10000\n",
    "print(df)"
   ]
  },
  {
   "cell_type": "code",
   "execution_count": null,
   "id": "a4335a2d-8e97-41db-b098-9f0bbc1008d4",
   "metadata": {},
   "outputs": [],
   "source": []
  }
 ],
 "metadata": {
  "kernelspec": {
   "display_name": "Python [conda env:base] *",
   "language": "python",
   "name": "conda-base-py"
  },
  "language_info": {
   "codemirror_mode": {
    "name": "ipython",
    "version": 3
   },
   "file_extension": ".py",
   "mimetype": "text/x-python",
   "name": "python",
   "nbconvert_exporter": "python",
   "pygments_lexer": "ipython3",
   "version": "3.12.7"
  }
 },
 "nbformat": 4,
 "nbformat_minor": 5
}
