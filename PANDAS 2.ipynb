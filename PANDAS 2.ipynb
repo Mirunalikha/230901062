{
 "cells": [
  {
   "cell_type": "code",
   "execution_count": 3,
   "id": "3c30b03f",
   "metadata": {
    "scrolled": false
   },
   "outputs": [
    {
     "name": "stdout",
     "output_type": "stream",
     "text": [
      "DataFrame.apply Function:\n",
      "\n",
      "\n",
      "Orignal DataFrame:\n",
      "    S  R\n",
      "0  3  9\n",
      "1  3  9\n",
      "2  3  9\n",
      "3  3  9\n",
      "\n",
      "Square root of DataFrame:\n",
      "           S    R\n",
      "0  1.732051  3.0\n",
      "1  1.732051  3.0\n",
      "2  1.732051  3.0\n",
      "3  1.732051  3.0\n",
      "\n",
      "Sum of each Column:\n",
      " S    12\n",
      "R    36\n",
      "dtype: int64\n",
      "\n",
      "Sum of each row:\n",
      " 0    12\n",
      "1    12\n",
      "2    12\n",
      "3    12\n",
      "dtype: int64\n"
     ]
    }
   ],
   "source": [
    "import pandas as pd\n",
    "import numpy as np\n",
    "print(\"DataFrame.apply Function:\\n\")\n",
    "info=pd.DataFrame([[3,9]]*4,columns=['S','R'])\n",
    "print(\"\\nOrignal DataFrame:\\n\",info)\n",
    "print(\"\\nSquare root of DataFrame:\\n\",info.apply(np.sqrt))\n",
    "print(\"\\nSum of each Column:\\n\",info.apply(np.sum,axis=0))\n",
    "print(\"\\nSum of each row:\\n\", info.apply(np.sum,axis=1))"
   ]
  },
  {
   "cell_type": "code",
   "execution_count": 7,
   "id": "7d3d134a",
   "metadata": {},
   "outputs": [
    {
     "name": "stdout",
     "output_type": "stream",
     "text": [
      "Original DataFrame:\n",
      "    0  1  2\n",
      "0  2  4  6\n",
      "1  1  3  5\n",
      "2  5  8  7\n",
      "\n",
      "Minimum & Maximum of each column:\n",
      "\n",
      "     0  1  2\n",
      "min  1  3  5\n",
      "max  5  8  7\n",
      "\n",
      "      0   1\n",
      "0  Sai  88\n",
      "1  Poo  70\n"
     ]
    }
   ],
   "source": [
    "import pandas as pd\n",
    "import numpy as np\n",
    "info=pd.DataFrame([[2,4,6],[1,3,5],[5,8,7]])\n",
    "col=['X','Y','Z']\n",
    "print(\"Original DataFrame:\\n\",info)\n",
    "print(\"\\nMinimum & Maximum of each column:\\n\")\n",
    "print(info.agg(['min','max']))\n",
    "d2=pd.DataFrame([['Sai',88],['Poo',70]])\n",
    "column=['EMP','ID']\n",
    "print(\"\\n\",d2)"
   ]
  },
  {
   "cell_type": "code",
   "execution_count": 14,
   "id": "df48e876",
   "metadata": {},
   "outputs": [
    {
     "name": "stdout",
     "output_type": "stream",
     "text": [
      "     0   1  Age\n",
      "0  Sai  88   20\n",
      "1  Poo  70   18\n",
      "\n",
      "\n",
      "     0   1  Age     sex\n",
      "0  Sai  88   20    Male\n",
      "1  Poo  70   18  Female\n"
     ]
    }
   ],
   "source": [
    "#adding new column\n",
    "d2['Age']=[20,18]\n",
    "print(d2)\n",
    "d=d2.assign(sex=['Male','Female'])\n",
    "print(\"\\n\")\n",
    "print(d)"
   ]
  },
  {
   "cell_type": "code",
   "execution_count": 24,
   "id": "5b1bc278",
   "metadata": {},
   "outputs": [
    {
     "name": "stdout",
     "output_type": "stream",
     "text": [
      "       col3      col4\n",
      "3  0.089773 -1.899881\n",
      "2 -0.123971 -0.011310\n",
      "0  1.099731 -0.401506\n",
      "4  0.670899  0.382973\n",
      "1  0.600054 -0.093771\n"
     ]
    }
   ],
   "source": [
    "#creating a dataframe using random values\n",
    "info=pd.DataFrame(np.random.randn(5,2), index=[3,2,0,4,1], columns=['col3','col4'])\n",
    "print(info)"
   ]
  },
  {
   "cell_type": "code",
   "execution_count": 23,
   "id": "7cad9060",
   "metadata": {},
   "outputs": [
    {
     "name": "stdout",
     "output_type": "stream",
     "text": [
      "\n",
      "Sorting based on the index:\n",
      "        col3      col4\n",
      "0 -0.712692 -0.139316\n",
      "1 -0.680129 -1.065387\n",
      "2 -1.314797  0.457403\n",
      "3  0.300063 -0.878695\n",
      "4 -0.300031 -0.410344\n",
      "\n",
      "Sorting based on the values:\n",
      "        col3      col4\n",
      "2 -1.314797  0.457403\n",
      "0 -0.712692 -0.139316\n",
      "1 -0.680129 -1.065387\n",
      "4 -0.300031 -0.410344\n",
      "3  0.300063 -0.878695\n"
     ]
    }
   ],
   "source": [
    "#sorting based on index\n",
    "info2=info.sort_index()\n",
    "print(\"\\nSorting based on the index:\\n\",info2)\n",
    "#sorting based on the index\n",
    "info3=info.sort_values(by='col3')\n",
    "print(\"\\nSorting based on the values:\\n\",info3)"
   ]
  },
  {
   "cell_type": "code",
   "execution_count": 32,
   "id": "043c277d",
   "metadata": {},
   "outputs": [
    {
     "name": "stdout",
     "output_type": "stream",
     "text": [
      "   id  Name_x Sub_x   Name_y Sub_y\n",
      "0   1     ANU  LICA   JOSHUA   EDC\n",
      "1   2   ARJUN   T&D   DINESH   M&I\n",
      "2   3   JOHAN   DLC  KAILASH   EMT\n",
      "3   4  HARISH   EM2   BARATH   EM1\n"
     ]
    }
   ],
   "source": [
    "left=pd.DataFrame({'id':[1,2,3,4],'Name':['ANU','ARJUN','JOHAN','HARISH'],'Sub':['LICA','T&D','DLC','EM2']})\n",
    "right=pd.DataFrame({'id':[1,2,3,4],'Name':['JOSHUA','DINESH','KAILASH','BARATH'],'Sub':['EDC','M&I','EMT','EM1']})\n",
    "print(pd.merge(left,right,on=\"id\"))"
   ]
  },
  {
   "cell_type": "code",
   "execution_count": null,
   "id": "01c2ff2e",
   "metadata": {},
   "outputs": [],
   "source": []
  }
 ],
 "metadata": {
  "kernelspec": {
   "display_name": "Python 3 (ipykernel)",
   "language": "python",
   "name": "python3"
  },
  "language_info": {
   "codemirror_mode": {
    "name": "ipython",
    "version": 3
   },
   "file_extension": ".py",
   "mimetype": "text/x-python",
   "name": "python",
   "nbconvert_exporter": "python",
   "pygments_lexer": "ipython3",
   "version": "3.11.5"
  }
 },
 "nbformat": 4,
 "nbformat_minor": 5
}
